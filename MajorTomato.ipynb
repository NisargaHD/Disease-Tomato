{
 "cells": [
  {
   "cell_type": "code",
   "execution_count": 1,
   "id": "dbd5f352-dc7f-401d-b997-0764e13bb169",
   "metadata": {},
   "outputs": [],
   "source": [
    "import torch\n",
    "import torch.nn as nn\n",
    "import torch.optim as optim\n",
    "from torch.utils.data import DataLoader, random_split\n",
    "from torchvision import datasets, transforms, models\n",
    "import numpy as np"
   ]
  },
  {
   "cell_type": "code",
   "execution_count": 2,
   "id": "d8748757-7e7b-428a-9f29-a176a161a531",
   "metadata": {},
   "outputs": [
    {
     "name": "stdout",
     "output_type": "stream",
     "text": [
      "Using device: cpu\n"
     ]
    }
   ],
   "source": [
    "# Device setup (switch to \"cpu\" if there's a memory issue)\n",
    "device = torch.device(\"cuda\" if torch.cuda.is_available() else \"cpu\")\n",
    "print(f\"Using device: {device}\")\n"
   ]
  },
  {
   "cell_type": "code",
   "execution_count": 3,
   "id": "6bc48580-094d-4cab-8115-600259b5094a",
   "metadata": {},
   "outputs": [],
   "source": [
    "# Define transformations\n",
    "transform = transforms.Compose([\n",
    "    transforms.Resize((224, 224)),\n",
    "    transforms.ToTensor(),\n",
    "    transforms.Normalize([0.485, 0.456, 0.406], [0.229, 0.224, 0.225])\n",
    "])"
   ]
  },
  {
   "cell_type": "code",
   "execution_count": 4,
   "id": "b6e049be-8ab3-4e1d-99f5-e377eab03ff2",
   "metadata": {},
   "outputs": [],
   "source": [
    "# Load dataset\n",
    "dataset = datasets.ImageFolder('C:\\DatasetMajor\\PlantVillage', transform=transform)"
   ]
  },
  {
   "cell_type": "code",
   "execution_count": 5,
   "id": "cf7ff4e4-1984-47b7-addf-c02ddb17fc51",
   "metadata": {},
   "outputs": [],
   "source": [
    "# Split dataset into training and validation sets\n",
    "train_size = int(0.8 * len(dataset))\n",
    "val_size = len(dataset) - train_size\n",
    "train_dataset, val_dataset = random_split(dataset, [train_size, val_size])"
   ]
  },
  {
   "cell_type": "code",
   "execution_count": 6,
   "id": "95a3e70e-a6f1-48f1-a5e6-69291e98bd68",
   "metadata": {},
   "outputs": [],
   "source": [
    "# Data loaders\n",
    "train_loader = DataLoader(train_dataset, batch_size=16, shuffle=True, num_workers=0)\n",
    "val_loader = DataLoader(val_dataset, batch_size=16, shuffle=False, num_workers=0)"
   ]
  },
  {
   "cell_type": "code",
   "execution_count": 7,
   "id": "652ae793-88fd-48fc-9102-550d4aa36bb0",
   "metadata": {},
   "outputs": [
    {
     "name": "stderr",
     "output_type": "stream",
     "text": [
      "C:\\Users\\hdnis\\anaconda3\\Lib\\site-packages\\torchvision\\models\\_utils.py:208: UserWarning: The parameter 'pretrained' is deprecated since 0.13 and may be removed in the future, please use 'weights' instead.\n",
      "  warnings.warn(\n",
      "C:\\Users\\hdnis\\anaconda3\\Lib\\site-packages\\torchvision\\models\\_utils.py:223: UserWarning: Arguments other than a weight enum or `None` for 'weights' are deprecated since 0.13 and may be removed in the future. The current behavior is equivalent to passing `weights=ResNet18_Weights.IMAGENET1K_V1`. You can also use `weights=ResNet18_Weights.DEFAULT` to get the most up-to-date weights.\n",
      "  warnings.warn(msg)\n"
     ]
    }
   ],
   "source": [
    "# Model setup\n",
    "model = models.resnet18(pretrained=True)\n",
    "model.fc = nn.Linear(model.fc.in_features, len(dataset.classes))  # Update final layer for custom classes\n",
    "model = model.to(device)"
   ]
  },
  {
   "cell_type": "code",
   "execution_count": 8,
   "id": "c2fcb534-a8ce-40d2-9f69-5c00f3d762b1",
   "metadata": {},
   "outputs": [],
   "source": [
    "# Define loss and optimizer\n",
    "criterion = nn.CrossEntropyLoss()\n",
    "optimizer = optim.Adam(model.parameters(), lr=0.001)"
   ]
  },
  {
   "cell_type": "code",
   "execution_count": 9,
   "id": "d492ba53-4dd7-4c06-a287-b6d12ecd1991",
   "metadata": {},
   "outputs": [
    {
     "name": "stdout",
     "output_type": "stream",
     "text": [
      "Starting training...\n",
      "Epoch 1/10\n",
      "Batch 0/16, Loss: 1.0963\n",
      "Batch 10/16, Loss: 0.3191\n",
      "Epoch 1 completed, Loss: 0.3014\n",
      "Epoch 2/10\n",
      "Batch 0/16, Loss: 0.0712\n",
      "Batch 10/16, Loss: 0.1851\n",
      "Epoch 2 completed, Loss: 0.2277\n",
      "Epoch 3/10\n",
      "Batch 0/16, Loss: 0.0023\n",
      "Batch 10/16, Loss: 0.1919\n",
      "Epoch 3 completed, Loss: 0.3174\n",
      "Epoch 4/10\n",
      "Batch 0/16, Loss: 0.2413\n",
      "Batch 10/16, Loss: 0.0266\n",
      "Epoch 4 completed, Loss: 0.1766\n",
      "Epoch 5/10\n",
      "Batch 0/16, Loss: 0.3771\n",
      "Batch 10/16, Loss: 0.2257\n",
      "Epoch 5 completed, Loss: 0.2457\n",
      "Epoch 6/10\n",
      "Batch 0/16, Loss: 0.0114\n",
      "Batch 10/16, Loss: 0.0502\n",
      "Epoch 6 completed, Loss: 0.1062\n",
      "Epoch 7/10\n",
      "Batch 0/16, Loss: 0.0091\n",
      "Batch 10/16, Loss: 0.1369\n",
      "Epoch 7 completed, Loss: 0.0433\n",
      "Epoch 8/10\n",
      "Batch 0/16, Loss: 0.0080\n",
      "Batch 10/16, Loss: 0.0172\n",
      "Epoch 8 completed, Loss: 0.0627\n",
      "Epoch 9/10\n",
      "Batch 0/16, Loss: 0.0254\n",
      "Batch 10/16, Loss: 0.1839\n",
      "Epoch 9 completed, Loss: 0.0593\n",
      "Epoch 10/10\n",
      "Batch 0/16, Loss: 0.0086\n",
      "Batch 10/16, Loss: 0.0513\n",
      "Epoch 10 completed, Loss: 0.0718\n"
     ]
    }
   ],
   "source": [
    "# Training loop\n",
    "num_epochs = 10\n",
    "print(\"Starting training...\")\n",
    "for epoch in range(num_epochs):\n",
    "    model.train()\n",
    "    running_loss = 0.0\n",
    "    print(f\"Epoch {epoch + 1}/{num_epochs}\")\n",
    "    for batch_idx, (images, labels) in enumerate(train_loader):\n",
    "        images, labels = images.to(device), labels.to(device)\n",
    "\n",
    "        optimizer.zero_grad()\n",
    "        outputs = model(images)\n",
    "        loss = criterion(outputs, labels)\n",
    "        loss.backward()\n",
    "        optimizer.step()\n",
    "\n",
    "        running_loss += loss.item() * images.size(0)\n",
    "\n",
    "        # Print progress within each batch\n",
    "        if batch_idx % 10 == 0:\n",
    "            print(f\"Batch {batch_idx}/{len(train_loader)}, Loss: {loss.item():.4f}\")\n",
    "\n",
    "    epoch_loss = running_loss / len(train_loader.dataset)\n",
    "    print(f\"Epoch {epoch + 1} completed, Loss: {epoch_loss:.4f}\")"
   ]
  },
  {
   "cell_type": "code",
   "execution_count": 10,
   "id": "bda27854-e5c8-432a-bd9d-66b144aefc17",
   "metadata": {},
   "outputs": [
    {
     "name": "stdout",
     "output_type": "stream",
     "text": [
      "Tomato_Bacterial_spot\n"
     ]
    }
   ],
   "source": [
    "from PIL import Image  # Import the Image class from PIL\n",
    "\n",
    "def predict_image(image_path):\n",
    "    image = Image.open(image_path)  # Open the image\n",
    "    image = transform(image).unsqueeze(0).to(device)  # Apply transformations\n",
    "    model.eval()\n",
    "    with torch.no_grad():\n",
    "        output = model(image)  # Get the model output\n",
    "        _, predicted = torch.max(output, 1)  # Get the predicted class\n",
    "    return dataset.classes[predicted.item()]  # Return the predicted class label\n",
    "\n",
    "# Example usage with proper file path formatting\n",
    "print(predict_image(r'C:\\DatasetMajor\\Test\\Blackspot.jpeg'))  # Using a raw string for the file path"
   ]
  },
  {
   "cell_type": "code",
   "execution_count": null,
   "id": "88e16b25-6ed8-4796-b7b4-1b8275ae5c77",
   "metadata": {},
   "outputs": [],
   "source": []
  }
 ],
 "metadata": {
  "kernelspec": {
   "display_name": "Python 3 (ipykernel)",
   "language": "python",
   "name": "python3"
  },
  "language_info": {
   "codemirror_mode": {
    "name": "ipython",
    "version": 3
   },
   "file_extension": ".py",
   "mimetype": "text/x-python",
   "name": "python",
   "nbconvert_exporter": "python",
   "pygments_lexer": "ipython3",
   "version": "3.11.7"
  }
 },
 "nbformat": 4,
 "nbformat_minor": 5
}
